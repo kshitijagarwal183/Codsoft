{
  "nbformat": 4,
  "nbformat_minor": 0,
  "metadata": {
    "colab": {
      "provenance": [],
      "authorship_tag": "ABX9TyM7HyOzajyELWe7C99YTnv5",
      "include_colab_link": true
    },
    "kernelspec": {
      "name": "python3",
      "display_name": "Python 3"
    },
    "language_info": {
      "name": "python"
    }
  },
  "cells": [
    {
      "cell_type": "markdown",
      "metadata": {
        "id": "view-in-github",
        "colab_type": "text"
      },
      "source": [
        "<a href=\"https://colab.research.google.com/github/kshitijagarwal183/Codsoft/blob/main/SALES%20PREDICTION%20USING%20PYTHON%20.ipynb\" target=\"_parent\"><img src=\"https://colab.research.google.com/assets/colab-badge.svg\" alt=\"Open In Colab\"/></a>"
      ]
    },
    {
      "cell_type": "markdown",
      "source": [
        "Linear regression model"
      ],
      "metadata": {
        "id": "_QcWIUzhLNHY"
      }
    },
    {
      "cell_type": "code",
      "execution_count": 4,
      "metadata": {
        "colab": {
          "base_uri": "https://localhost:8080/"
        },
        "id": "GfjVLfpRKWNd",
        "outputId": "bbab83ed-c9cc-4fe2-99d8-bffd4564ee5b"
      },
      "outputs": [
        {
          "output_type": "stream",
          "name": "stdout",
          "text": [
            "Mean Squared Error (MSE): 2.9077569102710896\n",
            "R-squared (R²): 0.9059011844150826\n",
            "        TV  Radio  Newspaper  Actual Sales  Predicted Sales\n",
            "95   163.3   31.6       52.9          16.9        17.034772\n",
            "15   195.4   47.7       52.9          22.4        20.409740\n",
            "30   292.9   28.3       43.2          21.4        23.723989\n",
            "158   11.7   36.9       45.2           7.3         9.272785\n",
            "128  220.3   49.0        3.2          24.7        21.682719\n"
          ]
        }
      ],
      "source": [
        "import pandas as pd\n",
        "from sklearn.model_selection import train_test_split\n",
        "from sklearn.linear_model import LinearRegression\n",
        "from sklearn.metrics import mean_squared_error, r2_score\n",
        "\n",
        "# Load the data\n",
        "file_path = 'advertising.csv'  # Update with the correct path\n",
        "data = pd.read_csv(file_path)\n",
        "\n",
        "# Split the data into features (X) and target (y)\n",
        "X = data[['TV', 'Radio', 'Newspaper']]\n",
        "y = data['Sales']\n",
        "\n",
        "# Split the data into training and testing sets\n",
        "X_train, X_test, y_train, y_test = train_test_split(X, y, test_size=0.2, random_state=42)\n",
        "\n",
        "# Initialize the linear regression model\n",
        "model = LinearRegression()\n",
        "\n",
        "# Train the model on the training data\n",
        "model.fit(X_train, y_train)\n",
        "\n",
        "# Make predictions on the test data\n",
        "y_pred = model.predict(X_test)\n",
        "\n",
        "# Evaluate the model's performance\n",
        "mse = mean_squared_error(y_test, y_pred)\n",
        "r2 = r2_score(y_test, y_pred)\n",
        "\n",
        "print(f\"Mean Squared Error (MSE): {mse}\")\n",
        "print(f\"R-squared (R²): {r2}\")\n",
        "\n",
        "# Select a few rows from the test set for prediction\n",
        "sample_data = X_test.head()\n",
        "sample_actual_sales = y_test.head()\n",
        "\n",
        "# Predict sales using the trained model\n",
        "sample_predictions = model.predict(sample_data)\n",
        "\n",
        "# Create a DataFrame to compare actual sales and predicted sales\n",
        "comparison_df = pd.DataFrame({\n",
        "    'TV': sample_data['TV'],\n",
        "    'Radio': sample_data['Radio'],\n",
        "    'Newspaper': sample_data['Newspaper'],\n",
        "    'Actual Sales': sample_actual_sales,\n",
        "    'Predicted Sales': sample_predictions\n",
        "})\n",
        "\n",
        "print(comparison_df)\n"
      ]
    },
    {
      "cell_type": "markdown",
      "source": [
        "Polynomial Regression Model"
      ],
      "metadata": {
        "id": "iRnGamgdLEvz"
      }
    },
    {
      "cell_type": "code",
      "source": [
        "from sklearn.preprocessing import PolynomialFeatures\n",
        "\n",
        "# Transform the features into polynomial features\n",
        "poly = PolynomialFeatures(degree=2)\n",
        "X_poly = poly.fit_transform(X)\n",
        "\n",
        "# Split the data into training and testing sets\n",
        "X_train, X_test, y_train, y_test = train_test_split(X_poly, y, test_size=0.2, random_state=42)\n",
        "\n",
        "# Train the model\n",
        "model = LinearRegression()\n",
        "model.fit(X_train, y_train)\n",
        "\n",
        "# Evaluate the model\n",
        "y_pred = model.predict(X_test)\n",
        "mse = mean_squared_error(y_test, y_pred)\n",
        "r2 = r2_score(y_test, y_pred)\n",
        "print(f\"Mean Squared Error (MSE): {mse}\")\n",
        "print(f\"R-squared (R²): {r2}\")"
      ],
      "metadata": {
        "colab": {
          "base_uri": "https://localhost:8080/"
        },
        "id": "uFwBiCmyK3av",
        "outputId": "0c86a621-6964-4294-c8fd-a1b3540eb2e5"
      },
      "execution_count": 5,
      "outputs": [
        {
          "output_type": "stream",
          "name": "stdout",
          "text": [
            "Mean Squared Error (MSE): 1.44254263690159\n",
            "R-squared (R²): 0.9533174341074723\n"
          ]
        }
      ]
    },
    {
      "cell_type": "markdown",
      "source": [
        "Regularization (Ridge and Lasso)"
      ],
      "metadata": {
        "id": "sEw5H1S4Lj13"
      }
    },
    {
      "cell_type": "code",
      "source": [
        "from sklearn.linear_model import Ridge, Lasso\n",
        "\n",
        "# Ridge Regression\n",
        "ridge_model = Ridge(alpha=1.0)\n",
        "ridge_model.fit(X_train, y_train)\n",
        "ridge_pred = ridge_model.predict(X_test)\n",
        "ridge_mse = mean_squared_error(y_test, ridge_pred)\n",
        "ridge_r2 = r2_score(y_test, ridge_pred)\n",
        "print(f\"Ridge - MSE: {ridge_mse}, R²: {ridge_r2}\")\n",
        "\n",
        "# Lasso Regression\n",
        "lasso_model = Lasso(alpha=0.1)\n",
        "lasso_model.fit(X_train, y_train)\n",
        "lasso_pred = lasso_model.predict(X_test)\n",
        "lasso_mse = mean_squared_error(y_test, lasso_pred)\n",
        "lasso_r2 = r2_score(y_test, lasso_pred)\n",
        "print(f\"Lasso - MSE: {lasso_mse}, R²: {lasso_r2}\")\n"
      ],
      "metadata": {
        "colab": {
          "base_uri": "https://localhost:8080/"
        },
        "id": "7iKpY2CtLuF1",
        "outputId": "293c92ae-5d2f-4ffd-af0b-64af4eb6ba31"
      },
      "execution_count": 6,
      "outputs": [
        {
          "output_type": "stream",
          "name": "stdout",
          "text": [
            "Ridge - MSE: 1.4425528162458723, R²: 0.9533171046905815\n",
            "Lasso - MSE: 1.453996925440471, R²: 0.9529467583535709\n"
          ]
        }
      ]
    },
    {
      "cell_type": "markdown",
      "source": [
        "Tree-based Methods"
      ],
      "metadata": {
        "id": "aCH1qPCNLybi"
      }
    },
    {
      "cell_type": "code",
      "source": [
        "from sklearn.ensemble import RandomForestRegressor\n",
        "\n",
        "# Train a random forest model\n",
        "rf_model = RandomForestRegressor(n_estimators=100, random_state=42)\n",
        "rf_model.fit(X_train, y_train)\n",
        "\n",
        "# Evaluate the model\n",
        "rf_pred = rf_model.predict(X_test)\n",
        "rf_mse = mean_squared_error(y_test, rf_pred)\n",
        "rf_r2 = r2_score(y_test, rf_pred)\n",
        "print(f\"Random Forest - MSE: {rf_mse}, R²: {rf_r2}\")\n"
      ],
      "metadata": {
        "colab": {
          "base_uri": "https://localhost:8080/"
        },
        "id": "R-fDDYQoL5KG",
        "outputId": "c08bc925-4285-4d37-cd22-3f8b31585bd3"
      },
      "execution_count": 7,
      "outputs": [
        {
          "output_type": "stream",
          "name": "stdout",
          "text": [
            "Random Forest - MSE: 1.2804824000000004, R²: 0.9585619152716246\n"
          ]
        }
      ]
    },
    {
      "cell_type": "markdown",
      "source": [
        "Cross-validation"
      ],
      "metadata": {
        "id": "mg5MhyXmL-8c"
      }
    },
    {
      "cell_type": "code",
      "source": [
        "from sklearn.model_selection import cross_val_score\n",
        "\n",
        "# Perform cross-validation on the linear regression model\n",
        "cv_scores = cross_val_score(LinearRegression(), X, y, cv=5, scoring='r2')\n",
        "print(f\"Cross-validated R² scores: {cv_scores}\")\n",
        "print(f\"Mean Cross-validated R²: {cv_scores.mean()}\")\n"
      ],
      "metadata": {
        "colab": {
          "base_uri": "https://localhost:8080/"
        },
        "id": "65QUrLM5MFz2",
        "outputId": "5442d862-4ff1-4516-d430-91c71eec95ef"
      },
      "execution_count": 8,
      "outputs": [
        {
          "output_type": "stream",
          "name": "stdout",
          "text": [
            "Cross-validated R² scores: [0.87556263 0.93177791 0.92150403 0.84554586 0.90247132]\n",
            "Mean Cross-validated R²: 0.8953723525274103\n"
          ]
        }
      ]
    }
  ]
}