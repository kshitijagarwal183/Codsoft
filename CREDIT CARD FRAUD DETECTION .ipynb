{
  "nbformat": 4,
  "nbformat_minor": 0,
  "metadata": {
    "colab": {
      "provenance": [],
      "authorship_tag": "ABX9TyN+DD4ew70cJTCgx/tkbcrf",
      "include_colab_link": true
    },
    "kernelspec": {
      "name": "python3",
      "display_name": "Python 3"
    },
    "language_info": {
      "name": "python"
    }
  },
  "cells": [
    {
      "cell_type": "markdown",
      "metadata": {
        "id": "view-in-github",
        "colab_type": "text"
      },
      "source": [
        "<a href=\"https://colab.research.google.com/github/kshitijagarwal183/Codsoft/blob/main/CREDIT%20CARD%20FRAUD%20DETECTION%20.ipynb\" target=\"_parent\"><img src=\"https://colab.research.google.com/assets/colab-badge.svg\" alt=\"Open In Colab\"/></a>"
      ]
    },
    {
      "cell_type": "markdown",
      "source": [
        "Steps to Follow:\n",
        "Preprocessing and Normalization\n",
        "Handling Class Imbalance\n",
        "Splitting the Dataset\n",
        "Training a Classification Algorithm\n",
        "Evaluating the Model's Performance"
      ],
      "metadata": {
        "id": "oFwZMRnAVb4p"
      }
    },
    {
      "cell_type": "markdown",
      "source": [
        "Preprocessing and Normalization"
      ],
      "metadata": {
        "id": "km76lrW7V8Gw"
      }
    },
    {
      "cell_type": "code",
      "source": [
        "import pandas as pd\n",
        "\n",
        "# Load the dataset\n",
        "file_path = 'creditcard.csv'\n",
        "data = pd.read_csv(file_path)\n",
        "\n",
        "# Display the first few rows and basic information about the dataset\n",
        "data_info = data.info()\n",
        "data_head = data.head()\n",
        "\n",
        "data_info, data_head"
      ],
      "metadata": {
        "colab": {
          "base_uri": "https://localhost:8080/"
        },
        "id": "chgfe_DyVeO_",
        "outputId": "7faf5cf4-6e65-4be9-f1fe-e82c114b1b08"
      },
      "execution_count": 2,
      "outputs": [
        {
          "output_type": "stream",
          "name": "stdout",
          "text": [
            "<class 'pandas.core.frame.DataFrame'>\n",
            "RangeIndex: 51591 entries, 0 to 51590\n",
            "Data columns (total 31 columns):\n",
            " #   Column  Non-Null Count  Dtype  \n",
            "---  ------  --------------  -----  \n",
            " 0   Time    51591 non-null  int64  \n",
            " 1   V1      51591 non-null  float64\n",
            " 2   V2      51591 non-null  float64\n",
            " 3   V3      51591 non-null  float64\n",
            " 4   V4      51591 non-null  float64\n",
            " 5   V5      51591 non-null  float64\n",
            " 6   V6      51591 non-null  float64\n",
            " 7   V7      51591 non-null  float64\n",
            " 8   V8      51591 non-null  float64\n",
            " 9   V9      51591 non-null  float64\n",
            " 10  V10     51591 non-null  float64\n",
            " 11  V11     51590 non-null  float64\n",
            " 12  V12     51590 non-null  float64\n",
            " 13  V13     51590 non-null  float64\n",
            " 14  V14     51590 non-null  float64\n",
            " 15  V15     51590 non-null  float64\n",
            " 16  V16     51590 non-null  float64\n",
            " 17  V17     51590 non-null  float64\n",
            " 18  V18     51590 non-null  float64\n",
            " 19  V19     51590 non-null  float64\n",
            " 20  V20     51590 non-null  float64\n",
            " 21  V21     51590 non-null  float64\n",
            " 22  V22     51590 non-null  float64\n",
            " 23  V23     51590 non-null  float64\n",
            " 24  V24     51590 non-null  float64\n",
            " 25  V25     51590 non-null  float64\n",
            " 26  V26     51590 non-null  float64\n",
            " 27  V27     51590 non-null  float64\n",
            " 28  V28     51590 non-null  float64\n",
            " 29  Amount  51590 non-null  float64\n",
            " 30  Class   51590 non-null  float64\n",
            "dtypes: float64(30), int64(1)\n",
            "memory usage: 12.2 MB\n"
          ]
        },
        {
          "output_type": "execute_result",
          "data": {
            "text/plain": [
              "(None,\n",
              "    Time        V1        V2        V3        V4        V5        V6        V7  \\\n",
              " 0     0 -1.359807 -0.072781  2.536347  1.378155 -0.338321  0.462388  0.239599   \n",
              " 1     0  1.191857  0.266151  0.166480  0.448154  0.060018 -0.082361 -0.078803   \n",
              " 2     1 -1.358354 -1.340163  1.773209  0.379780 -0.503198  1.800499  0.791461   \n",
              " 3     1 -0.966272 -0.185226  1.792993 -0.863291 -0.010309  1.247203  0.237609   \n",
              " 4     2 -1.158233  0.877737  1.548718  0.403034 -0.407193  0.095921  0.592941   \n",
              " \n",
              "          V8        V9  ...       V21       V22       V23       V24       V25  \\\n",
              " 0  0.098698  0.363787  ... -0.018307  0.277838 -0.110474  0.066928  0.128539   \n",
              " 1  0.085102 -0.255425  ... -0.225775 -0.638672  0.101288 -0.339846  0.167170   \n",
              " 2  0.247676 -1.514654  ...  0.247998  0.771679  0.909412 -0.689281 -0.327642   \n",
              " 3  0.377436 -1.387024  ... -0.108300  0.005274 -0.190321 -1.175575  0.647376   \n",
              " 4 -0.270533  0.817739  ... -0.009431  0.798278 -0.137458  0.141267 -0.206010   \n",
              " \n",
              "         V26       V27       V28  Amount  Class  \n",
              " 0 -0.189115  0.133558 -0.021053  149.62    0.0  \n",
              " 1  0.125895 -0.008983  0.014724    2.69    0.0  \n",
              " 2 -0.139097 -0.055353 -0.059752  378.66    0.0  \n",
              " 3 -0.221929  0.062723  0.061458  123.50    0.0  \n",
              " 4  0.502292  0.219422  0.215153   69.99    0.0  \n",
              " \n",
              " [5 rows x 31 columns])"
            ]
          },
          "metadata": {},
          "execution_count": 2
        }
      ]
    },
    {
      "cell_type": "markdown",
      "source": [
        "we'll address the class imbalance issue. Since fraudulent transactions (Class 1) are likely to be significantly fewer than genuine transactions (Class 0), we'll need to balance the classes. We can use techniques like oversampling the minority class or undersampling the majority class. Let's explore the class distribution first and then apply the appropriate technique."
      ],
      "metadata": {
        "id": "dgXF9khgWCBm"
      }
    },
    {
      "cell_type": "code",
      "source": [
        "from sklearn.preprocessing import StandardScaler\n",
        "\n",
        "# Check for missing values\n",
        "missing_values = data.isnull().sum().sum()\n",
        "\n",
        "# Normalize the 'Amount' and 'Time' columns\n",
        "scaler = StandardScaler()\n",
        "data[['Amount', 'Time']] = scaler.fit_transform(data[['Amount', 'Time']])\n",
        "\n",
        "# Display the first few rows of the normalized dataset\n",
        "normalized_data_head = data.head()\n",
        "\n",
        "missing_values, normalized_data_head\n"
      ],
      "metadata": {
        "colab": {
          "base_uri": "https://localhost:8080/"
        },
        "id": "4Ky8keJ0WJz7",
        "outputId": "1a40c35e-d86e-4a70-b930-977ff10efbf8"
      },
      "execution_count": 3,
      "outputs": [
        {
          "output_type": "execute_result",
          "data": {
            "text/plain": [
              "(20,\n",
              "        Time        V1        V2        V3        V4        V5        V6  \\\n",
              " 0 -2.228635 -1.359807 -0.072781  2.536347  1.378155 -0.338321  0.462388   \n",
              " 1 -2.228635  1.191857  0.266151  0.166480  0.448154  0.060018 -0.082361   \n",
              " 2 -2.228559 -1.358354 -1.340163  1.773209  0.379780 -0.503198  1.800499   \n",
              " 3 -2.228559 -0.966272 -0.185226  1.792993 -0.863291 -0.010309  1.247203   \n",
              " 4 -2.228483 -1.158233  0.877737  1.548718  0.403034 -0.407193  0.095921   \n",
              " \n",
              "          V7        V8        V9  ...       V21       V22       V23       V24  \\\n",
              " 0  0.239599  0.098698  0.363787  ... -0.018307  0.277838 -0.110474  0.066928   \n",
              " 1 -0.078803  0.085102 -0.255425  ... -0.225775 -0.638672  0.101288 -0.339846   \n",
              " 2  0.791461  0.247676 -1.514654  ...  0.247998  0.771679  0.909412 -0.689281   \n",
              " 3  0.237609  0.377436 -1.387024  ... -0.108300  0.005274 -0.190321 -1.175575   \n",
              " 4  0.592941 -0.270533  0.817739  ... -0.009431  0.798278 -0.137458  0.141267   \n",
              " \n",
              "         V25       V26       V27       V28    Amount  Class  \n",
              " 0  0.128539 -0.189115  0.133558 -0.021053  0.219338    0.0  \n",
              " 1  0.167170  0.125895 -0.008983  0.014724 -0.360231    0.0  \n",
              " 2 -0.327642 -0.139097 -0.055353 -0.059752  1.122791    0.0  \n",
              " 3  0.647376 -0.221929  0.062723  0.061458  0.116307    0.0  \n",
              " 4 -0.206010  0.502292  0.219422  0.215153 -0.094765    0.0  \n",
              " \n",
              " [5 rows x 31 columns])"
            ]
          },
          "metadata": {},
          "execution_count": 3
        }
      ]
    },
    {
      "cell_type": "markdown",
      "source": [
        "Synthetic Minority Over-sampling Technique"
      ],
      "metadata": {
        "id": "_MK9a-_xWVE9"
      }
    },
    {
      "cell_type": "code",
      "source": [
        "import matplotlib.pyplot as plt\n",
        "import seaborn as sns\n",
        "\n",
        "# Check the class distribution\n",
        "class_counts = data['Class'].value_counts()\n",
        "\n",
        "# Plot the class distribution\n",
        "plt.figure(figsize=(8, 4))\n",
        "sns.barplot(x=class_counts.index, y=class_counts.values, palette='viridis')\n",
        "plt.title('Class Distribution')\n",
        "plt.xlabel('Class')\n",
        "plt.ylabel('Frequency')\n",
        "plt.show()\n",
        "\n",
        "class_counts"
      ],
      "metadata": {
        "colab": {
          "base_uri": "https://localhost:8080/",
          "height": 586
        },
        "id": "fogoe575WdJI",
        "outputId": "45fcfa49-d1a8-4105-ffdb-5d30b7b060aa"
      },
      "execution_count": 4,
      "outputs": [
        {
          "output_type": "stream",
          "name": "stderr",
          "text": [
            "<ipython-input-4-2b46d88c888a>:9: FutureWarning: \n",
            "\n",
            "Passing `palette` without assigning `hue` is deprecated and will be removed in v0.14.0. Assign the `x` variable to `hue` and set `legend=False` for the same effect.\n",
            "\n",
            "  sns.barplot(x=class_counts.index, y=class_counts.values, palette='viridis')\n"
          ]
        },
        {
          "output_type": "display_data",
          "data": {
            "text/plain": [
              "<Figure size 800x400 with 1 Axes>"
            ],
            "image/png": "[encoded data removed]"
          },
          "metadata": {}
        },
        {
          "output_type": "execute_result",
          "data": {
            "text/plain": [
              "Class\n",
              "0.0    51440\n",
              "1.0      150\n",
              "Name: count, dtype: int64"
            ]
          },
          "metadata": {},
          "execution_count": 4
        }
      ]
    },
    {
      "cell_type": "markdown",
      "source": [
        "Apply SMOTE: Use SMOTE to oversample the minority class.\n",
        "Split Data: Split the balanced dataset into training and testing sets.\n",
        "Train Model: Train a classification model (e.g., logistic regression or random forest).\n",
        "Evaluate Model: Evaluate the model's performance using metrics like precision, recall, and F1-score."
      ],
      "metadata": {
        "id": "kRCfFkTFWidw"
      }
    },
    {
      "cell_type": "code",
      "source": [
        "# Check for NaN values in the target variable\n",
        "nan_values_in_y = y.isna().sum()\n",
        "\n",
        "# If there are NaN values, remove them\n",
        "if nan_values_in_y > 0:\n",
        "    data = data.dropna(subset=['Class'])\n",
        "    X = data.drop('Class', axis=1)\n",
        "    y = data['Class']\n",
        "\n",
        "# Apply SMOTE to balance the classes\n",
        "smote = SMOTE(random_state=42)\n",
        "X_resampled, y_resampled = smote.fit_resample(X, y)\n",
        "\n",
        "# Split the dataset into training and testing sets\n",
        "X_train, X_test, y_train, y_test = train_test_split(X_resampled, y_resampled, test_size=0.2, random_state=42, stratify=y_resampled)\n",
        "\n",
        "# Train a Random Forest Classifier\n",
        "clf = RandomForestClassifier(random_state=42)\n",
        "clf.fit(X_train, y_train)\n",
        "\n",
        "# Make predictions\n",
        "y_pred = clf.predict(X_test)\n",
        "\n",
        "# Evaluate the model\n",
        "report = classification_report(y_test, y_pred)\n",
        "print(report)\n"
      ],
      "metadata": {
        "colab": {
          "base_uri": "https://localhost:8080/"
        },
        "id": "l-XKJGVyWpdx",
        "outputId": "07b72d21-979d-4d8e-c45f-528d8d4bdd7c"
      },
      "execution_count": 8,
      "outputs": [
        {
          "output_type": "stream",
          "name": "stdout",
          "text": [
            "              precision    recall  f1-score   support\n",
            "\n",
            "         0.0       1.00      1.00      1.00     10288\n",
            "         1.0       1.00      1.00      1.00     10288\n",
            "\n",
            "    accuracy                           1.00     20576\n",
            "   macro avg       1.00      1.00      1.00     20576\n",
            "weighted avg       1.00      1.00      1.00     20576\n",
            "\n"
          ]
        }
      ]
    },
    {
      "cell_type": "code",
      "source": [
        "from imblearn.over_sampling import SMOTE\n",
        "from sklearn.model_selection import train_test_split\n",
        "\n",
        "# Separate features and target variable\n",
        "X = data.drop('Class', axis=1)\n",
        "y = data['Class']\n",
        "\n",
        "# Apply SMOTE to balance the classes\n",
        "smote = SMOTE(random_state=42)\n",
        "X_resampled, y_resampled = smote.fit_resample(X, y)\n",
        "\n",
        "# Split the dataset into training and testing sets\n",
        "X_train, X_test, y_train, y_test = train_test_split(X_resampled, y_resampled, test_size=0.2, random_state=42, stratify=y_resampled)\n",
        "\n",
        "# Check the distribution of the resampled dataset\n",
        "resampled_class_counts = y_resampled.value_counts()\n",
        "\n",
        "resampled_class_counts\n"
      ],
      "metadata": {
        "colab": {
          "base_uri": "https://localhost:8080/"
        },
        "id": "RykuXo5qYDwP",
        "outputId": "06f3c36d-19df-4a2e-b2c2-d525fab6c476"
      },
      "execution_count": 10,
      "outputs": [
        {
          "output_type": "execute_result",
          "data": {
            "text/plain": [
              "Class\n",
              "0.0    51440\n",
              "1.0    51440\n",
              "Name: count, dtype: int64"
            ]
          },
          "metadata": {},
          "execution_count": 10
        }
      ]
    }
  ]
}